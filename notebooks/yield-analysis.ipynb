{
 "cells": [
  {
   "cell_type": "markdown",
   "id": "bb038b44",
   "metadata": {},
   "source": [
    "# Calculate yield statistics on simulation datasets\n",
    "\n",
    "Statistical analysis consists of two stages of the topological gap protocol (TGP) described in Refs. [arXiv:2103.12217](https://arxiv.org/abs/2103.12217) and [arXiv:2207.02472](https://arxiv.org/abs/2207.02472):\n",
    "* TGP Stage 1 identifies promising regions with stable zero bias peaks (ZBPs) and transfers these regions to TGP Stage 2;\n",
    "* TGP Stage 2 searches clusters with stable ZBPs, topological gap, and surrounded by gapless boundary.\n",
    "\n",
    "The simulation is performed for 0 mK, therefore we first temperature broaden the data. This temperature broadening is CPU intensive and will take ≈1 min per dataset. We save the broadened datasets in `simulated/yield/cached` such that it only has to be done once.\n",
    "\n",
    "Note that we use 30 mK for broadening in Stage 1 and 40 mK in Stage 2. This is due to historical reasons. Increasing Stage 1 temperature to 40 mK barely changes regions for Stage 2."
   ]
  },
  {
   "cell_type": "code",
   "execution_count": null,
   "id": "bc5defe5",
   "metadata": {},
   "outputs": [],
   "source": [
    "from functools import partial\n",
    "from pathlib import Path\n",
    "from yield_analysis import analyze_1, analyze_2, parallel_map, show_roi2_tables, show_soi2_tables\n",
    "\n",
    "import pandas as pd"
   ]
  },
  {
   "cell_type": "code",
   "execution_count": null,
   "id": "55a9c994",
   "metadata": {},
   "outputs": [],
   "source": [
    "folder = Path(\"../data/simulated/yield/\")\n",
    "folder_stage1 = folder / \"stage1\"\n",
    "folder_stage2 = folder / \"stage2\"\n",
    "\n",
    "fnames_stage1 = sorted(folder_stage1.glob(\"*.nc\"))\n",
    "print(f\"{len(fnames_stage1)} .nc files total for stage 1\")\n",
    "\n",
    "fnames_stage2 = sorted(folder_stage2.glob(\"*.nc\"))\n",
    "print(f\"{len(fnames_stage2)} .nc files total for stage 2\")\n",
    "\n",
    "if len(fnames_stage1) == 0 or fnames_stage1[0].stat().st_size < 1e6:\n",
    "    raise Exception(f\"You are missing the data, please see the Git LFS instructions at `{str(folder)}/README.md`\")"
   ]
  },
  {
   "cell_type": "markdown",
   "id": "499ee442",
   "metadata": {},
   "source": [
    "# TGP Stage 1\n",
    "Now we will perform the analysis on all of these datasets.\n",
    "*(Stage 1 can take 3-10 minutes on a recent laptop.)*"
   ]
  },
  {
   "cell_type": "code",
   "execution_count": null,
   "id": "8f55e355",
   "metadata": {},
   "outputs": [],
   "source": [
    "T_mK = 30\n",
    "f = partial(analyze_1, T_mK=T_mK)\n",
    "results_1 = parallel_map(f, fnames_stage1)\n",
    "df_1 = pd.DataFrame(results_1)\n",
    "df_1_passed = df_1[~df_1.V_min.isna()]"
   ]
  },
  {
   "cell_type": "code",
   "execution_count": null,
   "id": "ecc08dee",
   "metadata": {},
   "outputs": [],
   "source": [
    "# Print all the bounding boxes\n",
    "cols = [\n",
    "    \"sample_name\",\n",
    "    \"disorder_seed\",\n",
    "    \"geometry_seed\",\n",
    "    \"surface_charge\",\n",
    "    \"B_min\",\n",
    "    \"V_min\",\n",
    "    \"B_max\",\n",
    "    \"V_max\",\n",
    "]\n",
    "df_1_passed[cols]"
   ]
  },
  {
   "cell_type": "code",
   "execution_count": null,
   "id": "af8f6081",
   "metadata": {},
   "outputs": [],
   "source": [
    "# Print the number of passed devices\n",
    "passed_devices = df_1_passed.groupby([\"sample_name\", \"surface_charge\"]).apply(len)\n",
    "total = df_1.groupby([\"sample_name\", \"surface_charge\"]).apply(len)\n",
    "df = pd.concat([passed_devices, total], axis=1)\n",
    "df.columns = [\"# passed\", \"total\"]\n",
    "df"
   ]
  },
  {
   "cell_type": "markdown",
   "id": "224cda16",
   "metadata": {},
   "source": [
    "# TGP Stage 2\n",
    "*(Stage 2 can take 2-4 hours on a recent laptop.)*\n",
    "\n",
    "Change `B_max` to `2.5` to get the statistics for the \"Yield <2.5T\" column."
   ]
  },
  {
   "cell_type": "code",
   "execution_count": null,
   "id": "79e4c6ca",
   "metadata": {},
   "outputs": [],
   "source": [
    "T_mK = 40\n",
    "f = partial(analyze_2, T_mK=T_mK, B_max=3.0, return_datasets=True)\n",
    "all_results = parallel_map(f, fnames_stage2)\n",
    "results = [r for r in all_results if r is not None]"
   ]
  },
  {
   "cell_type": "code",
   "execution_count": null,
   "id": "65e24524",
   "metadata": {},
   "outputs": [],
   "source": [
    "df_stats = pd.DataFrame(results)\n",
    "show_roi2_tables(df_stats)"
   ]
  },
  {
   "cell_type": "code",
   "execution_count": null,
   "id": "d6f238fc",
   "metadata": {},
   "outputs": [],
   "source": [
    "show_soi2_tables(df_stats)"
   ]
  }
 ],
 "metadata": {
  "language_info": {
   "name": "python",
   "pygments_lexer": "ipython3"
  }
 },
 "nbformat": 4,
 "nbformat_minor": 5
}
